{
 "cells": [
  {
   "cell_type": "markdown",
   "metadata": {},
   "source": [
    "# WeatherPy\n",
    "----\n",
    "\n",
    "#### Note\n",
    "* Instructions have been included for each segment. You do not have to follow them exactly, but they are included to help you think through the steps."
   ]
  },
  {
   "cell_type": "code",
   "execution_count": null,
   "metadata": {},
   "outputs": [],
   "source": [
    "#Searched something about citipy and came up with this Easter Egg - enjoy!\n",
    "\n",
    "from scipy import misc\n",
    "import matplotlib.pyplot as plt\n",
    "\n",
    "face = misc.face()\n",
    "plt.imshow(face)\n",
    "plt.show()"
   ]
  },
  {
   "cell_type": "code",
   "execution_count": null,
   "metadata": {
    "scrolled": true
   },
   "outputs": [],
   "source": [
    "#Import dependencies\n",
    "import requests\n",
    "import json\n",
    "import gmaps\n",
    "import pandas as pd\n",
    "import numpy as np\n",
    "import matplotlib.pyplot as plt\n",
    "import time \n",
    "from scipy.stats import linregress\n",
    "from citipy import citipy\n",
    "\n",
    "# Google developer API key\n",
    "from api_keys import g_key\n",
    "from api_keys import weather_api_key\n",
    "\n",
    "# Access maps with unique API key\n",
    "gmaps.configure(api_key=g_key)"
   ]
  },
  {
   "cell_type": "markdown",
   "metadata": {},
   "source": [
    "## Generate Cities List"
   ]
  },
  {
   "cell_type": "code",
   "execution_count": null,
   "metadata": {},
   "outputs": [],
   "source": [
    "lat_range = (-90, 90)\n",
    "long_range= (-180, 180)\n",
    "# list of cities to query\n",
    "cities = []\n",
    "\n",
    "# Create a set of random lat and lng combinations\n",
    "lat = np.random.uniform(low=-90.000, high=90.000, size=1500)\n",
    "long = np.random.uniform(low=-180.000, high=180.000, size=1500)\n",
    "lat_lon = zip(lat, long)\n",
    "\n",
    "for value in lat_lon:\n",
    "    city = citipy.nearest_city(value[0], value[1]).city_name\n",
    "    if city not in cities:\n",
    "        cities.append(city)\n",
    "\n",
    "\n",
    "len(cities)"
   ]
  },
  {
   "cell_type": "code",
   "execution_count": null,
   "metadata": {},
   "outputs": [],
   "source": [
    "#Let's find the city nearest by!\n",
    "for lats_longs in latitude_longitude:\n",
    "    city = citipi.nearest_city(latitude_longitude[0], latitude_longitude[1]).city_name"
   ]
  },
  {
   "cell_type": "markdown",
   "metadata": {},
   "source": [
    "### Perform API Calls\n",
    "* Perform a weather check on each city using a series of successive API calls.\n",
    "* Include a print log of each city as it'sbeing processed (with the city number and city name).\n"
   ]
  },
  {
   "cell_type": "code",
   "execution_count": null,
   "metadata": {
    "scrolled": true
   },
   "outputs": [],
   "source": [
    "query_url = f\"http://api.openweathermap.org/data/2.5/weather?appid={weather_api_key}&units={temp_units}&q=\"\n",
    "\n",
    "# list for response results\n",
    "lat = []\n",
    "long = []\n",
    "cloudiness = []\n",
    "humidities = []\n",
    "temp = []\n",
    "wind_speed = []\n",
    "country_d = []\n",
    "date = []\n",
    "cityname = []\n",
    "\n",
    "\n",
    "response= requests.post(query_url)\n",
    "\n",
    "# loop through cities, make API request, and append desired results\n",
    "x= 0\n",
    "for city in cities:\n",
    "    try:\n",
    "        response = requests.get(query_url+city).json()  \n",
    "        x = x+1\n",
    "        print(f\"Processing Record {x} | {city}\")\n",
    "#     except:\n",
    "#         print(\"City not found. Skip\")\n",
    "        \n",
    "        lat.append(response['coord']['lat'])\n",
    "        long.append(response['coord']['lon'])\n",
    "        cloudiness.append(response['clouds']['all'])\n",
    "        humidities.append(response['main']['humidity'])\n",
    "        temp.append(response['main']['temp_max'])\n",
    "        wind_speed.append(response['wind']['speed'])\n",
    "        country_d.append(response[\"sys\"]['country'])\n",
    "        date.append(response[\"dt\"])\n",
    "        cityname.append(response[\"name\"])\n",
    "    except:\n",
    "        print(\"City not found. Skip\")\n",
    "print(\"------------------------------\\nData Retrieval Complete\\n------------------------------\")\n"
   ]
  },
  {
   "cell_type": "markdown",
   "metadata": {},
   "source": [
    "### Convert Raw Data to DataFrame\n",
    "* Export the city data into a .csv.\n",
    "* Display the DataFrame"
   ]
  },
  {
   "cell_type": "code",
   "execution_count": null,
   "metadata": {},
   "outputs": [],
   "source": [
    "# Creating a dictionary\n",
    "df = ({\"City\": cityname, \"Lat\": lat, \"Lng\": long, \"Max Temp\": temp, \"Humidity\": humidities, \"Cloudiness\": cloudiness, \"Wind Speed\": wind_speed, \"Country\": country_d, \"Date\": date})\n",
    "# Making a dataframe\n",
    "df2=pd.DataFrame(df)\n",
    "\n",
    "# Converting to a csv file and saving it in the output_data folder - DataFrame.to_csv()\n",
    "weatherdf = df2.to_csv('C:\\\\Users\\\\morga\\\\Repositories\\\\APIsChallenge\\\\Instructions\\\\starter_code\\\\weather.csv', index = False) \n",
    "weatherdf = pd.read_csv('..\\\\output_data\\\\weather.csv')\n",
    "weatherdf"
   ]
  },
  {
   "cell_type": "code",
   "execution_count": null,
   "metadata": {},
   "outputs": [],
   "source": []
  },
  {
   "cell_type": "markdown",
   "metadata": {},
   "source": [
    "## Inspect the data and remove the cities where the humidity > 100%.\n",
    "----\n",
    "Skip this step if there are no cities that have humidity > 100%. "
   ]
  },
  {
   "cell_type": "code",
   "execution_count": null,
   "metadata": {},
   "outputs": [],
   "source": []
  },
  {
   "cell_type": "code",
   "execution_count": null,
   "metadata": {},
   "outputs": [],
   "source": [
    "#  Get the indices of cities that have humidity over 100%.\n"
   ]
  },
  {
   "cell_type": "code",
   "execution_count": null,
   "metadata": {},
   "outputs": [],
   "source": [
    "# Make a new DataFrame equal to the city data to drop all humidity outliers by index.\n",
    "# Passing \"inplace=False\" will make a copy of the city_data DataFrame, which we call \"clean_city_data\".\n"
   ]
  },
  {
   "cell_type": "code",
   "execution_count": null,
   "metadata": {},
   "outputs": [],
   "source": [
    "\n"
   ]
  },
  {
   "cell_type": "markdown",
   "metadata": {},
   "source": [
    "## Plotting the Data\n",
    "* Use proper labeling of the plots using plot titles (including date of analysis) and axes labels.\n",
    "* Save the plotted figures as .pngs."
   ]
  },
  {
   "cell_type": "markdown",
   "metadata": {},
   "source": [
    "## Latitude vs. Temperature Plot"
   ]
  },
  {
   "cell_type": "code",
   "execution_count": null,
   "metadata": {
    "scrolled": true
   },
   "outputs": [],
   "source": [
    "\n",
    "# Plot Latitude vs. Temperature\n",
    "x = weatherdf['Lat']\n",
    "y = weatherdf['Max Temp']\n",
    "\n",
    "\n",
    "plt.scatter(x, y, marker = \"o\", facecolors = \"red\", edgecolors = \"blue\")\n",
    "plt.grid (b=True, which=\"major\", axis=\"both\", linestyle=\"-\", color=\"purple\")\n",
    "\n",
    "plt.savefig(\"../output_data/fig1.png\")\n",
    "plt.title(\"City Latitude vs. Max Temperature (09/22/20)\")\n",
    "plt.xlabel(\"Latitude\")\n",
    "plt.ylabel(\"Max Temperature (F)\")\n",
    "plt.show()"
   ]
  },
  {
   "cell_type": "markdown",
   "metadata": {},
   "source": [
    "## Latitude vs. Humidity Plot"
   ]
  },
  {
   "cell_type": "code",
   "execution_count": null,
   "metadata": {},
   "outputs": [],
   "source": [
    "# Plot Latitude vs. Humidity\n",
    "x= weatherdf['Lat']\n",
    "y = weatherdf['Humidity']\n",
    "\n",
    "\n",
    "plt.scatter(x, y, marker = \"o\", facecolors = \"red\", edgecolors = \"blue\")\n",
    "plt.grid (b=True, which=\"major\", axis=\"both\", linestyle=\"-\", color=\"purple\")\n",
    "\n",
    "plt.savefig(\"../output_data/fig2.png\")\n",
    "plt.title(\"City Latitude vs. Humidity (09/22/20)\")\n",
    "plt.xlabel(\"Latitude\")\n",
    "plt.ylabel(\"Humidity (%)\")\n",
    "plt.show()"
   ]
  },
  {
   "cell_type": "markdown",
   "metadata": {},
   "source": [
    "## Latitude vs. Cloudiness Plot"
   ]
  },
  {
   "cell_type": "code",
   "execution_count": null,
   "metadata": {},
   "outputs": [],
   "source": [
    "# Plot Latitude vs. Cloudiness\n",
    "x= weatherdf['Lat']\n",
    "y = weatherdf['Cloudiness']\n",
    "\n",
    "\n",
    "plt.scatter(x, y, marker = \"o\", facecolors = \"red\", edgecolors = \"blue\")\n",
    "plt.grid (b=True, which=\"major\", axis=\"both\", linestyle=\"-\", color=\"purple\")\n",
    "\n",
    "plt.savefig(\"../output_data/fig3.png\")\n",
    "plt.title(\"City Latitude vs. Cloudiness (09/22/20)\")\n",
    "plt.xlabel(\"Latitude\")\n",
    "plt.ylabel(\"Cloudiness (%)\")\n",
    "plt.show()"
   ]
  },
  {
   "cell_type": "markdown",
   "metadata": {},
   "source": [
    "## Latitude vs. Wind Speed Plot"
   ]
  },
  {
   "cell_type": "code",
   "execution_count": null,
   "metadata": {},
   "outputs": [],
   "source": [
    "# Plot Latitude vs. Wind Speed\n",
    "x= weatherdf['Lat']\n",
    "y = weatherdf['Wind Speed']\n",
    "\n",
    "\n",
    "plt.scatter(x, y, marker = \"o\", facecolors = \"red\", edgecolors = \"blue\")\n",
    "plt.grid (b=True, which=\"major\", axis=\"both\", linestyle=\"-\", color=\"purple\")\n",
    "\n",
    "plt.savefig(\"../output_data/fig4.png\")\n",
    "plt.title(\"City Latitude vs. Wind Speed (09/22/20)\")\n",
    "plt.xlabel(\"Latitude\")\n",
    "plt.ylabel(\"Wind Speed (mph)\")\n",
    "plt.show()"
   ]
  },
  {
   "cell_type": "markdown",
   "metadata": {},
   "source": [
    "## Linear Regression"
   ]
  },
  {
   "cell_type": "code",
   "execution_count": null,
   "metadata": {},
   "outputs": [],
   "source": [
    "# Linear Regression Northern Hemisphere Latitude vs. Temperature\n",
    "# Creating Northern and Southern Hemisphere DataFrames. the latitude of the equator is 0. so \n",
    "North_df = weathedf.loc[weatherdf[\"Lat\"]>0]\n",
    "South_df = weatherdf.loc[weatherdf[\"Lat\"]<0]"
   ]
  },
  {
   "cell_type": "markdown",
   "metadata": {},
   "source": [
    "####  Northern Hemisphere - Max Temp vs. Latitude Linear Regression"
   ]
  },
  {
   "cell_type": "code",
   "execution_count": null,
   "metadata": {},
   "outputs": [],
   "source": [
    "x= North_df['Lat']\n",
    "y = North_df['Max Temp']\n",
    "\n",
    "(slope, intercept, rvalue, pvalue, stderr) = linregress(x, y)\n",
    "regress_values = x * slope + intercept\n",
    "line_eq = \"y = \" + str(round(slope,2)) + \"x + \" + str(round(intercept,2))\n",
    "plt.scatter(x, y)\n",
    "plt.plot(x,regress_values,\"r-\")\n",
    "plt.annotate(line_eq,(6,10),fontsize=15,color=\"red\")\n",
    "\n",
    "plt.savefig(\"../output_data/fig5.png\")\n",
    "plt.title(\"Northen Hemisphere Latitude vs. Max Temperature (09/22/20)\")\n",
    "plt.xlabel(\"Latitude\")\n",
    "plt.ylabel(\"Max Temperature (F)\")\n",
    "print(f\"The r-value is: {rvalue}\")\n",
    "plt.show()"
   ]
  },
  {
   "cell_type": "markdown",
   "metadata": {},
   "source": [
    "####  Southern Hemisphere - Max Temp vs. Latitude Linear Regression"
   ]
  },
  {
   "cell_type": "code",
   "execution_count": null,
   "metadata": {},
   "outputs": [],
   "source": [
    "x= South_df['Lat']\n",
    "y = South_df['Max Temp']\n",
    "\n",
    "(slope, intercept, rvalue, pvalue, stderr) = linregress(x, y)\n",
    "regress_values = x * slope + intercept\n",
    "line_eq = \"y = \" + str(round(slope,2)) + \"x + \" + str(round(intercept,2))\n",
    "plt.scatter(x, y)\n",
    "plt.plot(x,regress_values,\"r-\")\n",
    "plt.annotate(line_eq,(6,10),fontsize=15,color=\"red\")\n",
    "\n",
    "plt.savefig(\"../output_data/fig6.png\")\n",
    "plt.title(\"Southern Hemisphere Latitude vs. Max Temperature (09/22/20)\")\n",
    "plt.xlabel(\"Latitude\")\n",
    "plt.ylabel(\"Max Temperature (F)\")\n",
    "print(f\"The r-value is: {rvalue}\")\n",
    "plt.show()"
   ]
  },
  {
   "cell_type": "markdown",
   "metadata": {},
   "source": [
    "####  Northern Hemisphere - Humidity (%) vs. Latitude Linear Regression"
   ]
  },
  {
   "cell_type": "code",
   "execution_count": null,
   "metadata": {},
   "outputs": [],
   "source": [
    "x= North_df['Lat']\n",
    "y = North_df['Humidity']\n",
    "\n",
    "(slope, intercept, rvalue, pvalue, stderr) = linregress(x, y)\n",
    "regress_values = x * slope + intercept\n",
    "line_eq = \"y = \" + str(round(slope,2)) + \"x + \" + str(round(intercept,2))\n",
    "plt.scatter(x, y)\n",
    "plt.plot(x,regress_values,\"r-\")\n",
    "plt.annotate(line_eq,(6,10),fontsize=15,color=\"red\")\n",
    "\n",
    "plt.savefig(\"../output_data/fig7.png\")\n",
    "plt.title(\"Northen Hemisphere Latitude vs. Humidity (09/22/20)\")\n",
    "plt.xlabel(\"Latitude\")\n",
    "plt.ylabel(\"Humidity\")\n",
    "print(f\"The r-value is: {rvalue}\")\n",
    "plt.show()"
   ]
  },
  {
   "cell_type": "markdown",
   "metadata": {},
   "source": [
    "####  Southern Hemisphere - Humidity (%) vs. Latitude Linear Regression"
   ]
  },
  {
   "cell_type": "code",
   "execution_count": null,
   "metadata": {},
   "outputs": [],
   "source": [
    "x= South_df['Lat']\n",
    "y = South_df['Humidity']\n",
    "\n",
    "(slope, intercept, rvalue, pvalue, stderr) = linregress(x, y)\n",
    "regress_values = x * slope + intercept\n",
    "line_eq = \"y = \" + str(round(slope,2)) + \"x + \" + str(round(intercept,2))\n",
    "plt.scatter(x, y)\n",
    "plt.plot(x,regress_values,\"r-\")\n",
    "plt.annotate(line_eq,(6,10),fontsize=15,color=\"red\")\n",
    "\n",
    "plt.savefig(\"../output_data/fig8.png\")\n",
    "plt.title(\"Northen Hemisphere Latitude vs. Humidity (09/22/20)\")\n",
    "plt.xlabel(\"Latitude\")\n",
    "plt.ylabel(\"Humidity\")\n",
    "print(f\"The r-value is: {rvalue}\")\n",
    "plt.show()"
   ]
  },
  {
   "cell_type": "markdown",
   "metadata": {},
   "source": [
    "####  Northern Hemisphere - Cloudiness (%) vs. Latitude Linear Regression"
   ]
  },
  {
   "cell_type": "code",
   "execution_count": null,
   "metadata": {},
   "outputs": [],
   "source": []
  },
  {
   "cell_type": "markdown",
   "metadata": {},
   "source": [
    "####  Southern Hemisphere - Cloudiness (%) vs. Latitude Linear Regression"
   ]
  },
  {
   "cell_type": "code",
   "execution_count": null,
   "metadata": {},
   "outputs": [],
   "source": []
  },
  {
   "cell_type": "markdown",
   "metadata": {},
   "source": [
    "####  Northern Hemisphere - Wind Speed (mph) vs. Latitude Linear Regression"
   ]
  },
  {
   "cell_type": "code",
   "execution_count": null,
   "metadata": {},
   "outputs": [],
   "source": []
  },
  {
   "cell_type": "markdown",
   "metadata": {},
   "source": [
    "####  Southern Hemisphere - Wind Speed (mph) vs. Latitude Linear Regression"
   ]
  },
  {
   "cell_type": "code",
   "execution_count": null,
   "metadata": {},
   "outputs": [],
   "source": []
  },
  {
   "cell_type": "code",
   "execution_count": null,
   "metadata": {},
   "outputs": [],
   "source": []
  }
 ],
 "metadata": {
  "anaconda-cloud": {},
  "kernel_info": {
   "name": "python3"
  },
  "kernelspec": {
   "display_name": "Python 3",
   "language": "python",
   "name": "python3"
  },
  "language_info": {
   "codemirror_mode": {
    "name": "ipython",
    "version": 3
   },
   "file_extension": ".py",
   "mimetype": "text/x-python",
   "name": "python",
   "nbconvert_exporter": "python",
   "pygments_lexer": "ipython3",
   "version": "3.7.9-final"
  },
  "latex_envs": {
   "LaTeX_envs_menu_present": true,
   "autoclose": false,
   "autocomplete": true,
   "bibliofile": "biblio.bib",
   "cite_by": "apalike",
   "current_citInitial": 1,
   "eqLabelWithNumbers": true,
   "eqNumInitial": 1,
   "hotkeys": {
    "equation": "Ctrl-E",
    "itemize": "Ctrl-I"
   },
   "labels_anchors": false,
   "latex_user_defs": false,
   "report_style_numbering": false,
   "user_envs_cfg": false
  },
  "nteract": {
   "version": "0.12.3"
  }
 },
 "nbformat": 4,
 "nbformat_minor": 2
}